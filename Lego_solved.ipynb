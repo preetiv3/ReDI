{
 "cells": [
  {
   "cell_type": "code",
   "execution_count": null,
   "id": "1b6f828d",
   "metadata": {},
   "outputs": [],
   "source": [
    "import csv\n",
    "from datetime import datetime\n",
    "from statistics import median\n",
    "import matplotlib"
   ]
  },
  {
   "cell_type": "code",
   "execution_count": 372,
   "id": "04150a6d",
   "metadata": {},
   "outputs": [
    {
     "name": "stdout",
     "output_type": "stream",
     "text": [
      "{'all_pieces': 1894089, 'year_most': 2014, 'average_pieces': 162.3, 'most_used_word': 'Set'}\n"
     ]
    }
   ],
   "source": [
    "\n",
    "path =\"legosets.csv\"\n",
    "\n",
    "#check if there are any duplicate rows\n",
    "content=open(path,'r').readlines()\n",
    "content_set=set(content)                 # using set constructor,as set objects ignores any duplicate value\n",
    "#print(len(content_set), len(content))   #length of content==content_set, hence no duplicates, no cleaning required\n",
    "\n",
    "with open(path, newline='') as file:  \n",
    "    csv_reader = csv.reader(file)  # parse csv data from the file\n",
    "    header = next(csv_reader)      # read first line as header\n",
    "    data = []                      # remaining data will be stored in this list\n",
    "    lego_dict={}                   # final output dictionary giving all_pieces,year_most,average_pieces,most_used_word\n",
    "    set_per_yr = {}                # will store pairs of {year:total number of sets relased in that year}\n",
    "    total_lego_pc = 0              # will count total number of lego pieces in all sets released\n",
    "    max_by_year = 0\n",
    "    year_most = 0\n",
    "    total_rows = 0\n",
    "    name_list=[]\n",
    "    num_pc_yr = []\n",
    "    \n",
    "    for row in csv_reader:\n",
    "        #row = ['set_num', 'name', 'year', 'theme_id', 'num_parts']\n",
    "        set_num = row[0]\n",
    "        name = row[1]\n",
    "        year = int(row[2])\n",
    "        theme_id = row[3]\n",
    "        num_parts = int(row[4])                  \n",
    "        data.append([set_num,name,year,theme_id,num_parts])\n",
    "        #------- code to get 'most_used_word'----------------\n",
    "        name = name.replace(' - ', ' ').title()  #remove ' - ' from name,so that it is not counted as seperate word\n",
    "        name_list += name.strip().split()        #split name into seperate words\n",
    "        \n",
    "        #-------- code to get 'all_pieces'----------------\n",
    "        total_lego_pc += num_parts               \n",
    "        \n",
    "        #-------- code to get 'year_most' and 'median number of pieces by year'----------------\n",
    "        #set_per_yr[year] = set_per_yr.get(year, 0)  + 1  #if key for the year doesn't exist, create with default 0,increment\n",
    "        #if set_per_yr[year] > max_by_year:\n",
    "        #    max_by_year, year_most = set_per_yr[year], year\n",
    "            \n",
    "            \n",
    "            \n",
    "        #---    \n",
    "        set_per_yr[year] = set_per_yr.get(year,{\"set_per_yr\": 0, \"num_pc_yr\":[]})\n",
    "        set_per_yr[year][\"set_per_yr\"] = set_per_yr[year][\"set_per_yr\"] +1\n",
    "        set_per_yr[year][\"num_pc_yr\"].append(num_parts)\n",
    "        if set_per_yr[year][\"set_per_yr\"] > max_by_year:\n",
    "            max_by_year, year_most = set_per_yr[year][\"set_per_yr\"], year\n",
    "        #---sort by year\n",
    "        \n",
    "\n",
    "    #--------prepare list of 'year of release' and and 'median number of piece'----\n",
    "    x_year = []\n",
    "    y_median = []\n",
    "    for item in set_per_yr:\n",
    "        x_year.append(item)\n",
    "        y_median.append(statistics.median(set_per_yr[item][\"num_pc_yr\"]))\n",
    "\n",
    "\n",
    " \n",
    "    lego_dict['all_pieces'] = total_lego_pc    \n",
    "    lego_dict['year_most'] = year_most\n",
    "    lego_dict['average_pieces'] = round(total_lego_pc/len(data),1)\n",
    "    lego_dict['most_used_word'] = mode(name_list)            #max(set(name_list), key = name_list.count)-same result but more processing time\n",
    "    print(lego_dict)\n",
    "    #print(set_per_yr)\n",
    "    #print('year_most : ' + str(year_most) + \" with sets : \" + str(max_by_year))\n",
    "    #print(set_per_yr[2014], set_per_yr[1950], set_per_yr[2016], set_per_yr[2017])\n",
    "\n",
    "      \n",
    "# 'all_pieces': If you had one of each of the sets, how many pieces of Lego would you have then?\n",
    "# 'year_most': In which year was the highest number of sets released?\n",
    "# 'average_pieces': What is the average number of pieces in all sets, rounded to 1 decimal?\n",
    "# 'most_used_word': Which word is used most often in the names of the sets?\n"
   ]
  },
  {
   "cell_type": "code",
   "execution_count": null,
   "id": "c0cae404",
   "metadata": {},
   "outputs": [],
   "source": [
    "- #Plot the years from 1950-2017 on the x-axis and the median number of pieces of a set of the given year on the y-axis"
   ]
  },
  {
   "cell_type": "code",
   "execution_count": 369,
   "id": "89527d52",
   "metadata": {},
   "outputs": [
    {
     "data": {
      "image/png": "[encoded data removed]",
      "text/plain": [
       "<Figure size 432x288 with 1 Axes>"
      ]
     },
     "metadata": {
      "needs_background": "light"
     },
     "output_type": "display_data"
    }
   ],
   "source": [
    "import numpy as np\n",
    "import matplotlib.pyplot as plt\n",
    "\n",
    "\n",
    "x = np.array(x_year)\n",
    "y = np.array(y_median)\n",
    "\n",
    "plt.bar(x, y,width = 0.5)\n",
    "\n",
    "plt.xlabel(\"Year of release\")\n",
    "plt.ylabel(\"Median (number of peices in set)\")\n",
    "\n",
    "plt.show()"
   ]
  },
  {
   "cell_type": "code",
   "execution_count": null,
   "id": "68649bee",
   "metadata": {},
   "outputs": [],
   "source": []
  }
 ],
 "metadata": {
  "kernelspec": {
   "display_name": "Python 3",
   "language": "python",
   "name": "python3"
  },
  "language_info": {
   "codemirror_mode": {
    "name": "ipython",
    "version": 3
   },
   "file_extension": ".py",
   "mimetype": "text/x-python",
   "name": "python",
   "nbconvert_exporter": "python",
   "pygments_lexer": "ipython3",
   "version": "3.8.8"
  }
 },
 "nbformat": 4,
 "nbformat_minor": 5
}
